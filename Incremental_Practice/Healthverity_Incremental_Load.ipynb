{
 "cells": [
  {
   "cell_type": "code",
   "execution_count": 0,
   "metadata": {
    "application/vnd.databricks.v1+cell": {
     "cellMetadata": {
      "byteLimit": 2048000,
      "rowLimit": 10000
     },
     "inputWidgets": {},
     "nuid": "2a33ef73-6638-4104-aadf-2abd7f18014f",
     "showTitle": false,
     "tableResultSettingsMap": {},
     "title": ""
    }
   },
   "outputs": [],
   "source": [
    "from pyspark.sql.functions import *\n",
    "from datetime import datetime\n",
    "from pyspark.sql.types import *"
   ]
  },
  {
   "cell_type": "code",
   "execution_count": 0,
   "metadata": {
    "application/vnd.databricks.v1+cell": {
     "cellMetadata": {
      "byteLimit": 2048000,
      "rowLimit": 10000
     },
     "inputWidgets": {},
     "nuid": "da9eba96-c237-4200-8e84-41fc70ac44f3",
     "showTitle": false,
     "tableResultSettingsMap": {},
     "title": ""
    }
   },
   "outputs": [],
   "source": [
    "currentDate = datetime.now().strftime(\"%Y-%m-%d %H:%M:%S\")\n",
    "print(currentDate)"
   ]
  },
  {
   "cell_type": "code",
   "execution_count": 0,
   "metadata": {
    "application/vnd.databricks.v1+cell": {
     "cellMetadata": {
      "byteLimit": 2048000,
      "rowLimit": 10000
     },
     "inputWidgets": {},
     "nuid": "eaa130ef-276a-44f0-9792-ab076e51ed99",
     "showTitle": false,
     "tableResultSettingsMap": {},
     "title": ""
    }
   },
   "outputs": [],
   "source": [
    "# Defining the varibales\n",
    "# tableName = \"Healthverity\"\n",
    "inputPath = \"/Volumes/source/incremental/Healthverity\"\n",
    "outputPath = \"/Volumes/semantic_layer/incremental/Healthverity\"\n",
    "# metadataPath = \"/Volumes/semantic_layer/incremental/incremental_catalog\"\n",
    "# currentDate = datetime.now().strftime(\"%Y-%m-%d\")\n",
    "# incrementalField = \"date_service\"\n",
    "fullLoadFlag = False"
   ]
  },
  {
   "cell_type": "code",
   "execution_count": 0,
   "metadata": {
    "application/vnd.databricks.v1+cell": {
     "cellMetadata": {
      "byteLimit": 2048000,
      "rowLimit": 10000
     },
     "inputWidgets": {},
     "nuid": "3c6cef37-6a1e-4b41-9624-b78f02532380",
     "showTitle": false,
     "tableResultSettingsMap": {},
     "title": ""
    }
   },
   "outputs": [],
   "source": [
    "pathCheck = True\n",
    "try:\n",
    "    dbutils.fs.ls(\"/Volumes/semantic_layer/incremental/Healthverity\")\n",
    "except:\n",
    "    pathCheck = False\n",
    "    pass"
   ]
  },
  {
   "cell_type": "code",
   "execution_count": 0,
   "metadata": {
    "application/vnd.databricks.v1+cell": {
     "cellMetadata": {
      "byteLimit": 2048000,
      "rowLimit": 10000
     },
     "inputWidgets": {},
     "nuid": "075c057d-13d7-4be3-975f-63aa2c0eaac7",
     "showTitle": false,
     "tableResultSettingsMap": {},
     "title": ""
    }
   },
   "outputs": [],
   "source": [
    "print(pathCheck)"
   ]
  },
  {
   "cell_type": "code",
   "execution_count": 0,
   "metadata": {
    "application/vnd.databricks.v1+cell": {
     "cellMetadata": {
      "byteLimit": 2048000,
      "rowLimit": 10000
     },
     "inputWidgets": {},
     "nuid": "cbcc14f7-5907-483e-b6e8-bb545178f3ea",
     "showTitle": false,
     "tableResultSettingsMap": {},
     "title": ""
    }
   },
   "outputs": [],
   "source": [
    "# Read the output directory and get max date service value\n",
    "if pathCheck == True:\n",
    "    previousOutputDf = spark.read.format(\"delta\").load(outputPath)\n",
    "    maxDateService = previousOutputDf.select(functions.max('date_service')).collect()[0][0]\n",
    "else:\n",
    "    fullLoadFlag = True\n",
    "    maxDateService = \"2019-01-01\""
   ]
  },
  {
   "cell_type": "code",
   "execution_count": 0,
   "metadata": {
    "application/vnd.databricks.v1+cell": {
     "cellMetadata": {
      "byteLimit": 2048000,
      "rowLimit": 10000
     },
     "inputWidgets": {},
     "nuid": "5e6b03db-7bed-4cf6-9813-122fa4860a8b",
     "showTitle": false,
     "tableResultSettingsMap": {},
     "title": ""
    }
   },
   "outputs": [],
   "source": [
    "print(maxDateService)"
   ]
  },
  {
   "cell_type": "code",
   "execution_count": 0,
   "metadata": {
    "application/vnd.databricks.v1+cell": {
     "cellMetadata": {
      "byteLimit": 2048000,
      "rowLimit": 10000
     },
     "inputWidgets": {},
     "nuid": "627be55f-9223-41f3-81f3-ed68185b33d2",
     "showTitle": false,
     "tableResultSettingsMap": {},
     "title": ""
    }
   },
   "outputs": [],
   "source": [
    "def data_load(loadFlag,inputPath,dateValue):\n",
    "    if loadFlag == True:\n",
    "        print(\"Full Load\")\n",
    "        sourceDf = spark.read.format(\"delta\").load(inputPath)\n",
    "    else:\n",
    "        print(\"Incremental Load\")\n",
    "        sourceDf = spark.read.format(\"delta\").load(inputPath) \\\n",
    "                    .filter(col(\"date_service\") > dateValue)\n",
    "    return sourceDf\n"
   ]
  },
  {
   "cell_type": "code",
   "execution_count": 0,
   "metadata": {
    "application/vnd.databricks.v1+cell": {
     "cellMetadata": {
      "byteLimit": 2048000,
      "rowLimit": 10000
     },
     "inputWidgets": {},
     "nuid": "ddbfc95c-5d98-488b-8712-b844c6b35f08",
     "showTitle": false,
     "tableResultSettingsMap": {},
     "title": ""
    }
   },
   "outputs": [],
   "source": [
    "finalDf = data_load(fullLoadFlag,inputPath,maxDateService)"
   ]
  },
  {
   "cell_type": "code",
   "execution_count": 0,
   "metadata": {
    "application/vnd.databricks.v1+cell": {
     "cellMetadata": {
      "byteLimit": 2048000,
      "rowLimit": 10000
     },
     "inputWidgets": {},
     "nuid": "74967945-709b-4b65-8ee2-cfd6e4d2d31f",
     "showTitle": false,
     "tableResultSettingsMap": {},
     "title": ""
    }
   },
   "outputs": [],
   "source": [
    "display(finalDf.count())"
   ]
  },
  {
   "cell_type": "code",
   "execution_count": 0,
   "metadata": {
    "application/vnd.databricks.v1+cell": {
     "cellMetadata": {
      "byteLimit": 2048000,
      "rowLimit": 10000
     },
     "inputWidgets": {},
     "nuid": "2e09625c-c728-4210-830b-a7bb7b610709",
     "showTitle": false,
     "tableResultSettingsMap": {},
     "title": ""
    }
   },
   "outputs": [],
   "source": [
    "finalDf.write.format(\"delta\").mode(\"append\").save(outputPath)"
   ]
  },
  {
   "cell_type": "code",
   "execution_count": 0,
   "metadata": {
    "application/vnd.databricks.v1+cell": {
     "cellMetadata": {
      "byteLimit": 2048000,
      "rowLimit": 10000
     },
     "inputWidgets": {},
     "nuid": "f5d9a042-f8bb-49db-b4a2-cc9ff1333ce5",
     "showTitle": false,
     "tableResultSettingsMap": {},
     "title": ""
    }
   },
   "outputs": [],
   "source": [
    "# metadataSchema = StructType([\n",
    "#     StructField('tableName', StringType(), False),\n",
    "#     StructField('incrementalField', StringType(), False),\n",
    "#     StructField('incrementalValue', StringType(), False),\n",
    "#     StructField('Load_Date', StringType(), False)\n",
    "# ])\n",
    "\n",
    "# metadata = [[tableName, incrementalField, maxDateService, currentDate]]\n",
    "# metadataDf = spark.createDataFrame(metadata, metadataSchema)"
   ]
  },
  {
   "cell_type": "code",
   "execution_count": 0,
   "metadata": {
    "application/vnd.databricks.v1+cell": {
     "cellMetadata": {
      "byteLimit": 2048000,
      "implicitDf": true,
      "rowLimit": 10000
     },
     "inputWidgets": {},
     "nuid": "78cec3f9-aeeb-4648-aef4-14014efb8a94",
     "showTitle": false,
     "tableResultSettingsMap": {},
     "title": ""
    }
   },
   "outputs": [],
   "source": [
    "%sql\n",
    "select count(*) from delta.`/Volumes/semantic_layer/incremental/Healthverity`"
   ]
  }
 ],
 "metadata": {
  "application/vnd.databricks.v1+notebook": {
   "computePreferences": {
    "hardware": {
     "accelerator": null,
     "gpuPoolId": null,
     "memory": null
    }
   },
   "dashboards": [],
   "environmentMetadata": {
    "base_environment": "",
    "environment_version": "3"
   },
   "inputWidgetPreferences": null,
   "language": "python",
   "notebookMetadata": {
    "mostRecentlyExecutedCommandWithImplicitDF": {
     "commandId": 4932099588290924,
     "dataframes": [
      "_sqldf"
     ]
    },
    "pythonIndentUnit": 4
   },
   "notebookName": "Healthverity_Incremental_Load",
   "widgets": {}
  },
  "language_info": {
   "name": "python"
  }
 },
 "nbformat": 4,
 "nbformat_minor": 0
}
